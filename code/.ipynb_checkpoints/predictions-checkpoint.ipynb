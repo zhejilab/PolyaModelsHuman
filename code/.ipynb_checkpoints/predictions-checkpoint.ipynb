{
 "cells": [
  {
   "cell_type": "markdown",
   "metadata": {},
   "source": [
    "# PolyaID and PolyaStrength predictions\n",
    "\n",
    "**Region:** chr7:147159501-147159900:+ (hg38)\n",
    "\n",
    "**Sequence:** \n",
    "```\n",
    "AATAACTTTTTAAAACATATAACCAACTCTATTCATTTTTAAACACAGAT\n",
    "\n",
    "TAAATGCATCAGTCTTCATATTAATATTTTAAATATGCGGAACAAGGTAA\n",
    "\n",
    "AGTAGTCTCATCTCGTTTTAGTCAACCATATGTTCTGAAGGCCAGAATCA\n",
    "\n",
    "CTGCATGGTCTACAAATAATTTTTCCATACTTATGAATTCTCTTATGTAA\n",
    "\n",
    "TATGACTTACCCAGGTGTACAAATAAATTCCAATTAATGATGTATCTAAT\n",
    "                     ------\n",
    "AGACTGTCATCATTTTGAGTCATCTAACCCTATGGTCACGCCTACCAACT\n",
    "\n",
    "CACAATATGTGAGGAGGGCATATCACTGCCTCCGAAACTGATAAATCTTC\n",
    "\n",
    "AAATAAAGTGCAGAAACCTTAATTAAGAAATTGGTATATCTATTACTTCT\n",
    " ------\n",
    "```"
   ]
  },
  {
   "cell_type": "code",
   "execution_count": 68,
   "metadata": {},
   "outputs": [
    {
     "name": "stdout",
     "output_type": "stream",
     "text": [
      "The autoreload extension is already loaded. To reload it, use:\n",
      "  %reload_ext autoreload\n"
     ]
    }
   ],
   "source": [
    "%load_ext autoreload"
   ]
  },
  {
   "cell_type": "code",
   "execution_count": 69,
   "metadata": {},
   "outputs": [],
   "source": [
    "%autoreload 2"
   ]
  },
  {
   "cell_type": "code",
   "execution_count": 70,
   "metadata": {},
   "outputs": [],
   "source": [
    "#%run -i notebook_setup.py\n",
    "import os, re, sys, copy, glob, math, tqdm, scipy, random, itertools\n",
    "\n",
    "import dill as pickle\n",
    "import numpy as np\n",
    "import pandas as pd\n",
    "import scipy.stats as st\n",
    "\n",
    "from collections import defaultdict"
   ]
  },
  {
   "cell_type": "markdown",
   "metadata": {},
   "source": [
    "## IMPORTS AND SETUP"
   ]
  },
  {
   "cell_type": "code",
   "execution_count": 71,
   "metadata": {},
   "outputs": [],
   "source": [
    "import pyfaidx\n",
    "import isolearn.keras as iso"
   ]
  },
  {
   "cell_type": "code",
   "execution_count": 81,
   "metadata": {},
   "outputs": [],
   "source": [
    "PROJECT   = \"../../\"\n",
    "OUTDIR    = os.path.join(PROJECT, 'results')\n",
    "RESOURCES = os.path.join(PROJECT, 'resources')\n",
    "os.makedirs(OUTDIR, exist_ok = True)\n"
   ]
  },
  {
   "cell_type": "markdown",
   "metadata": {},
   "source": [
    "## HELPER FUNCTIONS"
   ]
  },
  {
   "cell_type": "code",
   "execution_count": 73,
   "metadata": {},
   "outputs": [],
   "source": [
    "def extractsequence(genome, chrom, start, end, strand):\n",
    "    if strand == \"+\":\n",
    "        sequence = genome[chrom][start:end].seq\n",
    "    elif strand == \"-\":\n",
    "        sequence = genome[chrom][start:end].reverse.complement.seq\n",
    "    return sequence\n",
    "\n",
    "\n",
    "def get_sequence(genome, chrom_sizes, chrom, position, strand):\n",
    "\n",
    "    start = int(position - 120)\n",
    "    end = int(position + 120)\n",
    "\n",
    "    if (strand == \"-\"):\n",
    "        start += 1\n",
    "        end += 1\n",
    "\n",
    "    if (start <= 0) | (end >= chrom_sizes[chrom]):\n",
    "        raise ValueError(f'Requested input with interval {sequence_length}bp exceeds the chromosome size.')\n",
    "\n",
    "    return extractsequence(genome, chrom, start, end, strand).upper()\n"
   ]
  },
  {
   "cell_type": "code",
   "execution_count": 74,
   "metadata": {},
   "outputs": [],
   "source": [
    "def generate_data(sequences):\n",
    "\n",
    "    df = pd.DataFrame.from_dict({'Sequence' : sequences})\n",
    "    data_idx = np.arange(len(df), dtype = int)\n",
    "\n",
    "    allSequenceGenerator = {\n",
    "            gen_id : iso.DataGenerator(\n",
    "                idx,\n",
    "                {\n",
    "                    'df' : df\n",
    "                },\n",
    "                batch_size = len(idx),\n",
    "                inputs = [\n",
    "                    {\n",
    "                        'id' : 'seq',\n",
    "                        'source_type' : 'dataframe',\n",
    "                        'source' : 'df',\n",
    "                        'extractor' : lambda row,index: row['Sequence'].upper(),\n",
    "                        'encoder' : iso.OneHotEncoder(seq_length = 240),\n",
    "                        'dim' : (240,4),\n",
    "                        'sparsify' : False,\n",
    "                    },\n",
    "                ],\n",
    "                randomizers = [],\n",
    "                shuffle = False,\n",
    "                densify_batch_matrices = True,\n",
    "                move_outputs_to_inputs = False\n",
    "            )\n",
    "            for gen_id, idx in [('predict', data_idx)]\n",
    "        }\n",
    "    return allSequenceGenerator\n"
   ]
  },
  {
   "cell_type": "code",
   "execution_count": 75,
   "metadata": {},
   "outputs": [],
   "source": [
    "def whole_gene_classification(ax, region, inputs, reads_dict, nbins = None, binwidth = None, normalize = None, arrow_int = 1000):\n",
    "\n",
    "    sequences, encodings, classprobs, cleavage_vecs, cleavage_ctrs, idx = inputs\n",
    "\n",
    "\n",
    "    ## plot observed 3'READS\n",
    "\n",
    "    xs = np.arange(region['start'], region['end'], 1)\n",
    "    gene_xs = np.arange(region['gene_start'], region['gene_end'], 1)\n",
    "    reads = [reads_dict.get((region['strand'], region['chrom'], x), 0) for x in xs]\n",
    "\n",
    "    if (nbins is not None):\n",
    "        xs_agg, binsize = np.linspace(region['start'], region['end'], num = nbins, retstep = True)\n",
    "\n",
    "    if (binwidth is not None):\n",
    "        xs_agg = np.arange(region['start'], region['end'], binwidth)\n",
    "        binsize = binwidth\n",
    "\n",
    "    reads_agg = [sum([reads_dict.get((region['strand'], region['chrom'], x), 0) for x in range(int(math.ceil(p)),int(math.ceil(p+binsize)))]) for p in xs_agg]\n",
    "\n",
    "    ax[0].bar(xs_agg, reads_agg, width = binsize)\n",
    "    ax[0].text(x = 0.01, y = 0.9, s = f\"{region['gene']}\\n{region['chrom']} ({region['strand']})\\n{region['gene_start']:,d}-{region['gene_end']:,d}\", ha = 'left', va = 'top', transform = ax[0].transAxes)\n",
    "\n",
    "    ## plot classification predictions\n",
    "    adj_classprobs = np.asarray(classprobs) - 0.5\n",
    "    colormat=np.where(adj_classprobs < 0, 'C3','C0')\n",
    "\n",
    "    ax[1].bar(xs, adj_classprobs, width = 1, color = colormat)\n",
    "    ax[1].axhline(y = 0, color = 'black', linestyle = 'dashed', linewidth = 0.5)\n",
    "\n",
    "    ax[1].set_ylim((-0.55,0.55))\n",
    "    ax[1].set_yticks([-0.5, 0, 0.5])\n",
    "    ax[1].set_yticklabels([0, 0.5, 1.0])\n",
    "\n",
    "\n",
    "    ## plot gene diagram\n",
    "    utr_height = 2\n",
    "    coding_height = 4\n",
    "#     gene_direction_marker = '4' if (region['strand'] == '+') else '3'\n",
    "    gene_direction_marker = '4'\n",
    "\n",
    "    ax[-1].plot([region['gene_start'], region['gene_end']], [0, 0], color = 'k', linewidth = 1)\n",
    "    ax[-1].plot(gene_xs[0::arrow_int], [0]*len(gene_xs[0::arrow_int]), marker = gene_direction_marker, linewidth = 0, markersize = 7, color = 'k')\n",
    "\n",
    "    for estart, eend in zip(region['exon_starts'], region['exon_ends']):\n",
    "\n",
    "        if (estart < region['coding_start']):\n",
    "\n",
    "            if (eend < region['coding_start']):\n",
    "                \n",
    "                gene_rect = ptc.Rectangle((estart, -utr_height/2), width = eend-estart, height = utr_height, color = 'k')\n",
    "                ax[-1].add_patch(gene_rect)\n",
    "\n",
    "            elif (eend >= region['coding_start']):\n",
    "\n",
    "                gene_rect = ptc.Rectangle((estart, -utr_height/2), width = region['coding_start']-estart, height = utr_height, color = 'k')\n",
    "                ax[-1].add_patch(gene_rect)\n",
    "\n",
    "                gene_rect = ptc.Rectangle((region['coding_start'], -coding_height/2), width = eend-region['coding_start'], height = coding_height, color = 'k')\n",
    "                ax[-1].add_patch(gene_rect)\n",
    "\n",
    "        else:\n",
    "\n",
    "            if (eend <= region['coding_end']):\n",
    "\n",
    "                gene_rect = ptc.Rectangle((estart, -coding_height/2), width = eend-estart, height = coding_height, color = 'k')\n",
    "                ax[-1].add_patch(gene_rect)\n",
    "\n",
    "            else:\n",
    "\n",
    "                if (estart <= region['coding_end']):\n",
    "\n",
    "                    gene_rect = ptc.Rectangle((estart, -coding_height/2), width = region['coding_end']-estart, height = coding_height, color = 'k')\n",
    "                    ax[-1].add_patch(gene_rect)\n",
    "\n",
    "                    gene_rect = ptc.Rectangle((region['coding_end'], -utr_height/2), width = eend-region['coding_end'], height = utr_height, color = 'k')\n",
    "                    ax[-1].add_patch(gene_rect)\n",
    "\n",
    "                else:\n",
    "\n",
    "                    gene_rect = ptc.Rectangle((estart, -utr_height/2), width = eend-estart, height = utr_height, color = 'k')\n",
    "                    ax[-1].add_patch(gene_rect)\n",
    "\n",
    "    ax[-1].get_yaxis().set_visible(False)\n",
    "    ax[-1].set_frame_on(False)\n",
    "    ax[-1].set_xticks([])\n",
    "    ax[-1].set_xticklabels([])\n",
    "    \n",
    "    ## Reverse axis if the example gene is on the negative strand\n",
    "    if (region['strand'] == '-'):\n",
    "        for a in ax:\n",
    "            a.xaxis.set_inverted(True)\n",
    "\n",
    "    return\n"
   ]
  },
  {
   "cell_type": "code",
   "execution_count": 76,
   "metadata": {},
   "outputs": [],
   "source": [
    "def cleavage_profile_explanation(ax, region, inputs, reads_dict, genome, visible_region = None, visible_labels = None, cutoff_class = 0.5, cutoff_clv = 0.05, background = 0.02, normalize = False, ylims_3reads = None, ylims_clv = None, ylims_pro = None):\n",
    "\n",
    "    sequences, encodings, classprobs, cleavage_vecs, cleavage_ctrs, idx = inputs\n",
    "\n",
    "    if (visible_region is None):\n",
    "        visible_region = (region['start'], region['end'])\n",
    "\n",
    "    idxs = np.arange(0, region['end'] - region['start'], 1)\n",
    "    xs   = np.arange(region['start'], region['end'], 1)\n",
    "\n",
    "    subset_idxs = idxs[np.where((xs >= visible_region[0]) & (xs < visible_region[1]))]\n",
    "    subset_xs   = xs[subset_idxs]\n",
    "\n",
    "    reads = np.asarray([reads_dict.get((region['strand'], region['chrom'], x), 0) for x in xs])\n",
    "\n",
    "    class_idx = []\n",
    "    class_clv_idx = []\n",
    "    cleavage_cols = []\n",
    "\n",
    "    for i,x in zip(subset_idxs, subset_xs):\n",
    "\n",
    "        if (classprobs[i] > cutoff_class):\n",
    "            class_idx.append(i)\n",
    "\n",
    "            if (cleavage_ctrs[i] > cutoff_clv):\n",
    "                p = ax[2].plot(np.arange(x-25,x+25,1), cleavage_vecs[i], linewidth = 0.5, alpha = 0.50, zorder = 2)\n",
    "                pcolor = p[-1].get_color()\n",
    "                cleavage_cols.append(pcolor)\n",
    "                class_clv_idx.append(i)\n",
    "\n",
    "            else:\n",
    "                ax[2].plot(np.arange(x-25,x+25,1), cleavage_vecs[i], linewidth = 0.25, alpha = 0.05, color = 'gray', zorder = 1)\n",
    "\n",
    "    class_idx     = np.asarray(class_idx)\n",
    "    class_clv_idx = np.asarray(class_clv_idx, dtype = int)\n",
    "    cleavage_cols = np.asarray(cleavage_cols)\n",
    "\n",
    "\n",
    "    ## plot known 3'READS\n",
    "    ax[0].bar(subset_xs, reads[subset_idxs], width = 2, color = 'gray')\n",
    "    \n",
    "    ax[0].yaxis.set_major_locator(MultipleLocator(ylims_3reads[1]))\n",
    "    ax[0].set_ylim(ylims_3reads)\n",
    "\n",
    "\n",
    "    ## plot classification predictions\n",
    "    adj_classprobs = np.asarray(classprobs) - 0.5\n",
    "    colormat=np.where(adj_classprobs < 0, 'C0','C3')\n",
    "\n",
    "    ax[1].bar(subset_xs, adj_classprobs[subset_idxs], width = 1, color = colormat[subset_idxs])\n",
    "    ax[1].axhline(y = 0, color = 'black', linestyle = 'dashed', linewidth = 0.5)\n",
    "\n",
    "    ax[1].set_ylim((-0.55,0.55))\n",
    "    ax[1].set_yticks([-0.5, 0.5])\n",
    "    ax[1].set_yticklabels([0, 1.0])\n",
    "\n",
    "    ax[1].yaxis.set_minor_locator(MultipleLocator(0.5))\n",
    "\n",
    "\n",
    "    # ## plot cleavage vector predictions\n",
    "    # ax[2].scatter(xs[class_idx], cleavage_ctrs[class_idx], color = cleavage_cols, s = 3, zorder = 2)\n",
    "\n",
    "    ## plot cleavage vectors passing thresholds to generate cleavage profile\n",
    "    ax[2].axhline(y = 0.05, color = 'black', linestyle = 'dashed', linewidth = 0.5)\n",
    "    ax[2].scatter(xs[class_clv_idx], cleavage_ctrs[class_clv_idx], color = cleavage_cols, s = 2, zorder = 3)\n",
    "\n",
    "    ax[2].yaxis.set_major_locator(MultipleLocator(ylims_clv[1]))\n",
    "    ax[2].set_ylim(ylims_clv)\n",
    "\n",
    "\n",
    "    ## plot mean cleavage profile\n",
    "    pred_dict = dict(zip(xs[class_clv_idx], cleavage_vecs[class_clv_idx]))\n",
    "    cleavage_profs = []\n",
    "\n",
    "    for pos in subset_xs:\n",
    "\n",
    "        pstart, pend = (pos-25, pos+25)\n",
    "        results = [(p, pred_dict.get(p)) for p in range(pstart+1,pend) if (p in pred_dict)]\n",
    "\n",
    "        if (len(results) > 0):\n",
    "            starts, cleavages = list(zip(*results))\n",
    "            positive_arr = np.zeros((len(results),))\n",
    "\n",
    "            for i, (ostart, ocleavage) in enumerate(zip(starts, cleavages)):\n",
    "                odict = dict(zip(list(range(ostart-25,ostart+25)), ocleavage))\n",
    "                positive_arr[i,] = odict[pos]\n",
    "\n",
    "            outmean = np.mean(positive_arr, axis = 0)\n",
    "\n",
    "            if (outmean > background):\n",
    "                cleavage_profs.append(outmean - background)\n",
    "            else:\n",
    "                cleavage_profs.append(0)\n",
    "\n",
    "        else:\n",
    "            cleavage_profs.append(0)\n",
    "\n",
    "    cleavage_profs = np.asarray(cleavage_profs)\n",
    "\n",
    "    if (normalize) and (np.sum(cleavage_profs) > 0):\n",
    "        cleavage_profs = cleavage_profs / np.sum(cleavage_profs)\n",
    "\n",
    "    ax[3].plot(subset_xs, cleavage_profs, linewidth = 0.5, color = 'gray')\n",
    "\n",
    "    ax[3].yaxis.set_major_locator(MultipleLocator(ylims_pro[1]))\n",
    "    ax[3].set_ylim(ylims_pro)\n",
    "\n",
    "\n",
    "    ## plot representative sites from whole genome analysis if available\n",
    "    ## otherwise plot the maximum site of the cleavage profile track\n",
    "    \n",
    "    if ('repr_sites' in region):\n",
    "        \n",
    "        clv_idx = np.where(np.isin(subset_xs, region['repr_sites']))\n",
    "        clv_xs  = subset_xs[clv_idx]\n",
    "        clv_pro = cleavage_profs[clv_idx]\n",
    "        \n",
    "        ax[4].bar(clv_xs, clv_pro, width = 1.2, color = 'gray')\n",
    "        outputs = (clv_xs, clv_pro)\n",
    "        \n",
    "    else:\n",
    "        if len(cleavage_profs) == 0:\n",
    "            return ([], [])\n",
    "        cleavage_max_idx = np.argmax(cleavage_profs)\n",
    "        ax[4].bar(subset_xs[cleavage_max_idx], cleavage_profs[cleavage_max_idx], width = 1.2, color = 'gray')\n",
    "        outputs = ([subset_xs[cleavage_max_idx]], [cleavage_profs[cleavage_max_idx]])\n",
    "\n",
    "    ax[4].yaxis.set_major_locator(MultipleLocator(ylims_pro[1]))\n",
    "    ax[4].set_ylim(ylims_pro)\n",
    "\n",
    "\n",
    "    if (visible_labels is not None):\n",
    "\n",
    "        ax[0].set_xlim(visible_region)\n",
    "\n",
    "        if (visible_labels == 'relative'):\n",
    "\n",
    "            ax[0].set_xticks(np.arange(visible_region[0], visible_region[1]+1, 100))\n",
    "            ax[0].set_xticklabels(np.arange(-1 *(visible_region[1]-visible_region[0])/2, 1+(visible_region[1]-visible_region[0])/2, 100, dtype = int))\n",
    "\n",
    "            ax[0].xaxis.set_minor_locator(MultipleLocator(25))\n",
    "\n",
    "        else:\n",
    "\n",
    "            ax[0].xaxis.set_major_locator(MultipleLocator(100))\n",
    "            ax[0].xaxis.set_minor_locator(MultipleLocator(25))\n",
    "\n",
    "\n",
    "    ## Remove spines from top and right edges of plot\n",
    "    ## Reverse axis if the example gene is on the negative strand\n",
    "    for a in ax:\n",
    "        \n",
    "        a.spines['right'].set_visible(False)\n",
    "        a.spines['top'].set_visible(False)\n",
    "        \n",
    "        if (region['strand'] == '-'):\n",
    "            a.xaxis.set_inverted(True)\n",
    "\n",
    "    return outputs\n"
   ]
  },
  {
   "cell_type": "markdown",
   "metadata": {},
   "source": [
    "## IMPORT DATA"
   ]
  },
  {
   "cell_type": "code",
   "execution_count": 77,
   "metadata": {},
   "outputs": [],
   "source": [
    "## Load indexed reference genome for sequence extraction\n",
    "\n",
    "genome = pyfaidx.Fasta(os.path.join(RESOURCES, \"hg38.genome.fa\"))\n",
    "\n",
    "## Load chromosome files used to check edges during sequence extraction\n",
    "\n",
    "chrom_sizes = {}\n",
    "with open(os.path.join(RESOURCES, \"hg38.chrom.sizes\"), mode = 'r') as infile:\n",
    "    for line in infile:\n",
    "        entries = line.strip(\"\\n\").split(\"\\t\")\n",
    "        chrom_sizes[entries[0]] = int(entries[1])\n",
    "\n",
    "## Load 3'READS scoring dictionary\n",
    "\n",
    "with open(os.path.join(RESOURCES, \"reads3_scoring_dictionary.pickle\"), mode = 'rb') as handle:\n",
    "    reads_dict = pickle.load(handle)\n"
   ]
  },
  {
   "cell_type": "markdown",
   "metadata": {},
   "source": [
    "## Cleavage profile consolidation example from gene *UGDH*"
   ]
  },
  {
   "cell_type": "markdown",
   "metadata": {},
   "source": [
    "#### Prepare predictions"
   ]
  },
  {
   "cell_type": "code",
   "execution_count": 78,
   "metadata": {},
   "outputs": [],
   "source": [
    "## GenePred entry: ENST00000361727.8\tchr7\t+\t146116800\t148420998\t146116876\t148415616\t24\t146116800,146774270,146839710,147043906,147108146,147120978,147128692,147132244,147300140,147395608,147485934,147562137,147639105,147903564,147977861,148118117,148147490,148172241,148217287,148229645,148267032,148383648,148409390,148415416,\t146116973,146774381,146839904,147044054,147108350,147121163,147128836,147132509,147300290,147395780,147486041,147562257,147639306,147903721,147977989,148118288,148147709,148172478,148217524,148229779,148267126,148383888,148409471,148420998,\t0\tENSG00000174469.23\tcmpl\tcmpl\t0,1,1,0,1,1,0,0,1,1,2,1,1,1,2,1,1,1,1,1,0,1,1,1,\n",
    "\n",
    "example = {\n",
    "    'gene'         : 'AR',\n",
    "    'transcript'   : 'ENST00000374690.9', ## NM_014141.6 is the longest isoform\n",
    "    'chrom'        : 'chrX',\n",
    "    'strand'       : '+',\n",
    "    'start'        : 67681980-120,\n",
    "    'end'          : 67683979+120,\n",
    "    'gene_start'   : 67544020,\n",
    "    'gene_end'     : 67730619,\n",
    "    'coding_start' : 67545146,\n",
    "    'coding_end'   : 67723841,\n",
    "    'exon_starts'  : [67544020, 67643255, 67686009, 67711401, 67717477, 67721832, 67722826, 67723685],\n",
    "    'exon_ends'    : [67546762, 67643407, 67686126, 67711689, 67717622, 67721963, 67722984, 67730619],\n",
    "}\n"
   ]
  },
  {
   "cell_type": "code",
   "execution_count": 80,
   "metadata": {
    "scrolled": false
   },
   "outputs": [
    {
     "name": "stderr",
     "output_type": "stream",
     "text": [
      "Compiling sequence file: 100%|██████████| 2239/2239 [00:00<00:00, 136841.86it/s]\n"
     ]
    }
   ],
   "source": [
    "with open(os.path.join(OUTDIR, f\"example_sequences.{example['gene'].lower()}.txt\"), mode = 'w') as handle:\n",
    "    handle.write(\"chrom\\tstart\\tend\\tstrand\\tsequence\\n\")\n",
    "    for x in tqdm.tqdm(range(example['start'], example['end'], 1), desc = 'Compiling sequence file'):\n",
    "        handle.write(f\"{example['chrom']}\\t{int(x)}\\t{int(x+1)}\\t{example['strand']}\\t{get_sequence(genome, chrom_sizes, example['chrom'], x, example['strand'])}\\n\")\n"
   ]
  },
  {
   "cell_type": "code",
   "execution_count": 51,
   "metadata": {},
   "outputs": [
    {
     "name": "stdout",
     "output_type": "stream",
     "text": [
      "Compiled sequences           : 2239\n",
      "Classification probabilities : (2239,)\n",
      "Cleavage probability vectors : (2239, 50)\n",
      "Center cleavage probabilities: (2239,)\n",
      "Encoded sequences            : (2239, 240, 4)\n",
      "Positive cleavage positions  : (29,)\n"
     ]
    }
   ],
   "source": [
    "## Read in predictions from Quest job\n",
    "\n",
    "positions     = []\n",
    "sequences     = []\n",
    "classprobs    = []\n",
    "cleavage_vecs = []\n",
    "cleavage_ctrs = []\n",
    "strengths     = []\n",
    "\n",
    "with open(os.path.join(OUTDIR, f\"example_{example['gene'].lower()}.comprehensive_predictions.txt\"), mode = 'r') as handle:\n",
    "    header = handle.readline().rstrip(\"\\n\").split(\"\\t\")\n",
    "    for line in handle:\n",
    "        \n",
    "        ldict = dict(zip(header, line.rstrip(\"\\n\").split(\"\\t\")))\n",
    "        \n",
    "        ldict['start'] = int(float(ldict['start']))\n",
    "        ldict['end'  ] = int(float(ldict['end'  ]))\n",
    "        \n",
    "        ldict['classification'] = float(ldict['classification'])\n",
    "        ldict['pred_logit'    ] = float(ldict['pred_logit'    ])\n",
    "        ldict['pred_prob'     ] = float(ldict['pred_prob'     ])\n",
    "        \n",
    "        ldict['cleavage_vector'] = np.asarray([float(x) for x in ldict['cleavage_vector'].strip(\"][\").split(\", \")])\n",
    "        ldict['cleavage_center'] = ldict['cleavage_vector'][25]\n",
    "        \n",
    "        positions.append(ldict['start'])\n",
    "        sequences.append(ldict['sequence'])\n",
    "        classprobs.append(ldict['classification'])\n",
    "        cleavage_vecs.append(ldict['cleavage_vector'])\n",
    "        cleavage_ctrs.append(ldict['cleavage_center'])\n",
    "        strengths.append(ldict['pred_logit'])\n",
    "\n",
    "classprobs    = np.asarray(classprobs)\n",
    "cleavage_vecs = np.asarray(cleavage_vecs)\n",
    "cleavage_ctrs = np.asarray(cleavage_ctrs)\n",
    "\n",
    "print(f\"Compiled sequences           : {len(sequences)}\")\n",
    "print(f\"Classification probabilities : {np.shape(classprobs)}\")\n",
    "print(f\"Cleavage probability vectors : {np.shape(cleavage_vecs)}\")\n",
    "print(f\"Center cleavage probabilities: {np.shape(cleavage_ctrs)}\")\n",
    "\n",
    "## Compile results into data frame\n",
    "\n",
    "example_data = pd.DataFrame.from_dict({\n",
    "    'position'        : positions,\n",
    "    'classification'  : classprobs,\n",
    "    'cleavage_center' : cleavage_ctrs,\n",
    "    'strength'        : strengths,\n",
    "}, orient = 'columns')\n",
    "\n",
    "## One-hot encode compiled sequences into 240x4 matrices\n",
    "\n",
    "encodings = generate_data(sequences)['predict'][0][0]\n",
    "print(f\"Encoded sequences            : {np.shape(encodings)}\")\n",
    "\n",
    "## Identify cleavage positions with positive classification and cleavage probabilities\n",
    "\n",
    "idx = np.asarray([i for i,(cp,cv) in enumerate(zip(classprobs, cleavage_ctrs)) if (cp >= 0.5) and (cv >= 0.05)])\n",
    "inputs = [np.asarray(_) for _ in [sequences, encodings, classprobs, cleavage_vecs, cleavage_ctrs, idx]]\n",
    "print(f\"Positive cleavage positions  : {np.shape(idx)}\")\n",
    "\n",
    "# ## Save processed predictions\n",
    "\n",
    "# with open(os.path.join(OUTDIR, f\"prediction_inputs.{example['gene'].lower()}.pickle\"), mode = 'wb') as handle:\n",
    "#     pickle.dump(inputs, handle)\n",
    "    "
   ]
  },
  {
   "cell_type": "code",
   "execution_count": 52,
   "metadata": {},
   "outputs": [
    {
     "name": "stdout",
     "output_type": "stream",
     "text": [
      "Positive cleavage position values:\n",
      "      position  classification  cleavage_center  strength\n",
      "188   67682048        0.544355         0.081958 -8.976392\n",
      "239   67682099        0.874948         0.200039 -7.898031\n",
      "240   67682100        0.694678         0.237634 -7.822421\n",
      "241   67682101        0.651930         0.178862 -7.807433\n",
      "242   67682102        0.840547         0.089955 -7.547290\n",
      "759   67682619        0.930725         0.184983 -4.586356\n",
      "760   67682620        0.955911         0.310182 -4.334861\n",
      "761   67682621        0.951209         0.117285 -4.030292\n",
      "762   67682622        0.929621         0.054290 -4.253066\n",
      "764   67682624        0.946868         0.165660 -3.898855\n",
      "845   67682705        0.953051         0.079308 -7.359812\n",
      "846   67682706        0.938635         0.155480 -6.448272\n",
      "847   67682707        0.986244         0.237414 -6.528205\n",
      "848   67682708        0.952169         0.106668 -6.556967\n",
      "849   67682709        0.941428         0.071096 -6.622292\n",
      "851   67682711        0.956317         0.091484 -6.495772\n",
      "1117  67682977        0.941393         0.052700 -3.321299\n",
      "1118  67682978        0.926934         0.233769 -4.188175\n",
      "1119  67682979        0.931362         0.231987 -3.812876\n",
      "1120  67682980        0.943377         0.222309 -4.004027\n",
      "1860  67683720        0.581993         0.054983 -6.636012\n",
      "1861  67683721        0.561151         0.068486 -5.926349\n",
      "1862  67683722        0.567404         0.103450 -7.059446\n",
      "1863  67683723        0.581643         0.086836 -6.669787\n",
      "1864  67683724        0.573468         0.060330 -5.673500\n",
      "1865  67683725        0.586385         0.061450 -5.733871\n",
      "1866  67683726        0.600843         0.069860 -5.211933\n",
      "1867  67683727        0.588767         0.100696 -3.764855\n",
      "1926  67683786        0.509144         0.079899 -7.398950\n"
     ]
    }
   ],
   "source": [
    "print(\"Positive cleavage position values:\")\n",
    "print(example_data.loc[idx])\n"
   ]
  },
  {
   "cell_type": "markdown",
   "metadata": {},
   "source": [
    "#### Plot consolidation procedure"
   ]
  },
  {
   "cell_type": "code",
   "execution_count": 63,
   "metadata": {},
   "outputs": [
    {
     "data": {
      "image/png": "[encoded data removed]",
      "text/plain": [
       "<Figure size 300x150 with 3 Axes>"
      ]
     },
     "metadata": {},
     "output_type": "display_data"
    }
   ],
   "source": [
    "import matplotlib.pyplot as plt\n",
    "import matplotlib.patches as ptc\n",
    "\n",
    "fig,axes = plt.subplots(3, 1, figsize = (3,1.5), sharex = True, gridspec_kw = {'height_ratios' : [1,1,0.25]})\n",
    "\n",
    "whole_gene_classification(axes, example, inputs, reads_dict, nbins = 300, arrow_int = 2000)\n",
    "\n",
    "axes[0].set_ylabel(\"Observed 3'READS Distribution\", rotation = 0, ha = 'right', va = 'center')\n",
    "axes[1].set_ylabel(\"Classification Prediction (0.5 Threshold)\", rotation = 0, ha = 'right', va = 'center')\n",
    "    \n",
    "plt.savefig(os.path.join(OUTDIR, f\"whole_gene_classification.{example['gene'].lower()}.pdf\"), format = 'pdf', dpi = 600, transparent = True)\n",
    "plt.show()\n"
   ]
  },
  {
   "cell_type": "code",
   "execution_count": 64,
   "metadata": {
    "scrolled": false
   },
   "outputs": [
    {
     "data": {
      "image/png": "[encoded data removed]",
      "text/plain": [
       "<Figure size 400x250 with 5 Axes>"
      ]
     },
     "metadata": {},
     "output_type": "display_data"
    }
   ],
   "source": [
    "from matplotlib.ticker import MultipleLocator\n",
    "fig,axes = plt.subplots(5, 1, figsize = (4,2.5), sharex = True)\n",
    "    \n",
    "outputs = cleavage_profile_explanation(axes, example, inputs, reads_dict, genome,\n",
    "                                       visible_region = (147159500, 147159950), visible_labels = 'absolute',\n",
    "                                       cutoff_class = 0.5, cutoff_clv = 0.05, normalize = True,\n",
    "                                       ylims_3reads = (0,10), ylims_clv = (0,0.25), ylims_pro = (0,0.25))\n",
    "\n",
    "axes[0].set_ylabel(\"Observed\\n3'READS\",             rotation = 0, ha = 'right', va = 'center')\n",
    "axes[1].set_ylabel(\"PolyaID\\nclassification\",       rotation = 0, ha = 'right', va = 'center')\n",
    "axes[2].set_ylabel(\"Positive\\ncleavage\\nvectors\",   rotation = 0, ha = 'right', va = 'center')\n",
    "axes[3].set_ylabel(\"Normalized\\ncleavage\\nprofile\", rotation = 0, ha = 'right', va = 'center')\n",
    "axes[4].set_ylabel(\"Representative\\ncleavage site\", rotation = 0, ha = 'right', va = 'center')\n",
    "\n",
    "# if (example['strand'] == '-'):\n",
    "#     plt.gca().invert_xaxis()\n",
    "\n",
    "plt.tight_layout()\n",
    "plt.savefig(os.path.join(OUTDIR, f\"cleavage_profile_explanation.{example['gene'].lower()}.svg\"), format = 'svg', dpi = 600, transparent = True)\n",
    "plt.show()\n"
   ]
  },
  {
   "cell_type": "code",
   "execution_count": 65,
   "metadata": {},
   "outputs": [
    {
     "name": "stdout",
     "output_type": "stream",
     "text": [
      "Representative sites:\n",
      "Empty DataFrame\n",
      "Columns: [position, classification, cleavage_center, strength]\n",
      "Index: []\n"
     ]
    }
   ],
   "source": [
    "print(\"Representative sites:\")\n",
    "print(example_data.loc[example_data['position'].isin(outputs[0])])\n"
   ]
  },
  {
   "cell_type": "code",
   "execution_count": 66,
   "metadata": {},
   "outputs": [],
   "source": [
    "for p in range(147159500,147159950):\n",
    "    r = reads_dict.get(('+','chr7',p), 0)\n",
    "    if (r):\n",
    "        print(p,r)"
   ]
  }
 ],
 "metadata": {
  "kernelspec": {
   "display_name": "Python 3",
   "language": "python",
   "name": "python3"
  },
  "language_info": {
   "codemirror_mode": {
    "name": "ipython",
    "version": 3
   },
   "file_extension": ".py",
   "mimetype": "text/x-python",
   "name": "python",
   "nbconvert_exporter": "python",
   "pygments_lexer": "ipython3",
   "version": "3.9.6"
  }
 },
 "nbformat": 4,
 "nbformat_minor": 2
}
