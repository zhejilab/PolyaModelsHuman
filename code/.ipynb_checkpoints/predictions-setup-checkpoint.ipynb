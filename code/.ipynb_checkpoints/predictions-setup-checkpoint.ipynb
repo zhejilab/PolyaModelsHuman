{
 "cells": [
  {
   "cell_type": "markdown",
   "metadata": {},
   "source": [
    "# PolyaID and PolyaStrength predictions\n",
    "\n",
    "**Region:** chr7:147159501-147159900:+ (hg38)\n",
    "\n",
    "**Sequence:** \n",
    "```\n",
    "AATAACTTTTTAAAACATATAACCAACTCTATTCATTTTTAAACACAGAT\n",
    "\n",
    "TAAATGCATCAGTCTTCATATTAATATTTTAAATATGCGGAACAAGGTAA\n",
    "\n",
    "AGTAGTCTCATCTCGTTTTAGTCAACCATATGTTCTGAAGGCCAGAATCA\n",
    "\n",
    "CTGCATGGTCTACAAATAATTTTTCCATACTTATGAATTCTCTTATGTAA\n",
    "\n",
    "TATGACTTACCCAGGTGTACAAATAAATTCCAATTAATGATGTATCTAAT\n",
    "                     ------\n",
    "AGACTGTCATCATTTTGAGTCATCTAACCCTATGGTCACGCCTACCAACT\n",
    "\n",
    "CACAATATGTGAGGAGGGCATATCACTGCCTCCGAAACTGATAAATCTTC\n",
    "\n",
    "AAATAAAGTGCAGAAACCTTAATTAAGAAATTGGTATATCTATTACTTCT\n",
    " ------\n",
    "```"
   ]
  },
  {
   "cell_type": "code",
   "execution_count": 2,
   "metadata": {},
   "outputs": [
    {
     "name": "stdout",
     "output_type": "stream",
     "text": [
      "The autoreload extension is already loaded. To reload it, use:\n",
      "  %reload_ext autoreload\n"
     ]
    }
   ],
   "source": [
    "%load_ext autoreload"
   ]
  },
  {
   "cell_type": "code",
   "execution_count": 3,
   "metadata": {},
   "outputs": [],
   "source": [
    "%autoreload 2"
   ]
  },
  {
   "cell_type": "code",
   "execution_count": 13,
   "metadata": {},
   "outputs": [],
   "source": [
    "#%run code/notebook_setup.py\n",
    "import os, re, sys, copy, glob, math, tqdm, scipy, random, itertools\n",
    "\n",
    "import dill as pickle\n",
    "import numpy as np\n",
    "import pandas as pd\n",
    "import scipy.stats as st\n",
    "\n",
    "from collections import defaultdict"
   ]
  },
  {
   "cell_type": "markdown",
   "metadata": {},
   "source": [
    "## IMPORTS AND SETUP"
   ]
  },
  {
   "cell_type": "code",
   "execution_count": 14,
   "metadata": {},
   "outputs": [
    {
     "name": "stderr",
     "output_type": "stream",
     "text": [
      "/Users/tianzechen/Library/Python/3.9/lib/python/site-packages/urllib3/__init__.py:35: NotOpenSSLWarning: urllib3 v2 only supports OpenSSL 1.1.1+, currently the 'ssl' module is compiled with 'LibreSSL 2.8.3'. See: https://github.com/urllib3/urllib3/issues/3020\n",
      "  warnings.warn(\n"
     ]
    }
   ],
   "source": [
    "import pyfaidx\n",
    "import isolearn.keras as iso"
   ]
  },
  {
   "cell_type": "code",
   "execution_count": 23,
   "metadata": {},
   "outputs": [],
   "source": [
    "PROJECT   = \"../../\"\n",
    "OUTDIR    = os.path.join(PROJECT, 'results')\n",
    "RESOURCES = os.path.join(PROJECT, 'resources')\n",
    "os.makedirs(OUTDIR, exist_ok = True)"
   ]
  },
  {
   "cell_type": "markdown",
   "metadata": {},
   "source": [
    "## HELPER FUNCTIONS"
   ]
  },
  {
   "cell_type": "code",
   "execution_count": 24,
   "metadata": {},
   "outputs": [],
   "source": [
    "def extractsequence(genome, chrom, start, end, strand):\n",
    "    if strand == \"+\":\n",
    "        sequence = genome[chrom][start:end].seq\n",
    "    elif strand == \"-\":\n",
    "        sequence = genome[chrom][start:end].reverse.complement.seq\n",
    "    return sequence\n",
    "\n",
    "\n",
    "def get_sequence(genome, chrom_sizes, chrom, position, strand):\n",
    "\n",
    "    start = int(position - 120)\n",
    "    end = int(position + 120)\n",
    "\n",
    "    if (strand == \"-\"):\n",
    "        start += 1\n",
    "        end += 1\n",
    "\n",
    "    if (start <= 0) | (end >= chrom_sizes[chrom]):\n",
    "        raise ValueError(f'Requested input with interval {sequence_length}bp exceeds the chromosome size.')\n",
    "\n",
    "    return extractsequence(genome, chrom, start, end, strand).upper()\n"
   ]
  },
  {
   "cell_type": "markdown",
   "metadata": {},
   "source": [
    "## IMPORT DATA"
   ]
  },
  {
   "cell_type": "code",
   "execution_count": 25,
   "metadata": {},
   "outputs": [],
   "source": [
    "## Load indexed reference genome for sequence extraction\n",
    "\n",
    "genome = pyfaidx.Fasta(os.path.join(RESOURCES, \"hg38.genome.fa\"))\n",
    "\n",
    "## Load chromosome files used to check edges during sequence extraction\n",
    "\n",
    "chrom_sizes = {}\n",
    "with open(os.path.join(RESOURCES, \"hg38.chrom.sizes\"), mode = 'r') as infile:\n",
    "    for line in infile:\n",
    "        entries = line.strip(\"\\n\").split(\"\\t\")\n",
    "        chrom_sizes[entries[0]] = int(entries[1])"
   ]
  },
  {
   "cell_type": "markdown",
   "metadata": {},
   "source": [
    "## Cleavage profile consolidation example from gene *AR*"
   ]
  },
  {
   "cell_type": "markdown",
   "metadata": {},
   "source": [
    "#### Prepare predictions"
   ]
  },
  {
   "cell_type": "code",
   "execution_count": 26,
   "metadata": {},
   "outputs": [],
   "source": [
    "## GenePred entry: ENST00000361727.8\tchr7\t+\t146116800\t148420998\t146116876\t148415616\t24\t146116800,146774270,146839710,147043906,147108146,147120978,147128692,147132244,147300140,147395608,147485934,147562137,147639105,147903564,147977861,148118117,148147490,148172241,148217287,148229645,148267032,148383648,148409390,148415416,\t146116973,146774381,146839904,147044054,147108350,147121163,147128836,147132509,147300290,147395780,147486041,147562257,147639306,147903721,147977989,148118288,148147709,148172478,148217524,148229779,148267126,148383888,148409471,148420998,\t0\tENSG00000174469.23\tcmpl\tcmpl\t0,1,1,0,1,1,0,0,1,1,2,1,1,1,2,1,1,1,1,1,0,1,1,1,\n",
    "\n",
    "example = {\n",
    "    'gene'         : 'AR',\n",
    "    'transcript'   : 'ENST00000374690.9', ## NM_014141.6 is the longest isoform\n",
    "    'chrom'        : 'chrX',\n",
    "    'strand'       : '+',\n",
    "    'start'        : 67681980-120,\n",
    "    'end'          : 67683979+120,\n",
    "    'gene_start'   : 67544020,\n",
    "    'gene_end'     : 67730619,\n",
    "    'coding_start' : 67545146,\n",
    "    'coding_end'   : 67723841,\n",
    "    'exon_starts'  : [67544020, 67643255, 67686009, 67711401, 67717477, 67721832, 67722826, 67723685],\n",
    "    'exon_ends'    : [67546762, 67643407, 67686126, 67711689, 67717622, 67721963, 67722984, 67730619],\n",
    "}\n"
   ]
  },
  {
   "cell_type": "code",
   "execution_count": 27,
   "metadata": {
    "scrolled": false
   },
   "outputs": [
    {
     "name": "stderr",
     "output_type": "stream",
     "text": [
      "Compiling sequence file: 100%|██████████| 2239/2239 [00:00<00:00, 207527.77it/s]\n"
     ]
    }
   ],
   "source": [
    "with open(os.path.join(OUTDIR, f\"example_sequences.{example['gene'].lower()}.txt\"), mode = 'w') as handle:\n",
    "    handle.write(\"chrom\\tstart\\tend\\tstrand\\tsequence\\n\")\n",
    "    for x in tqdm.tqdm(range(example['start'], example['end'], 1), desc = 'Compiling sequence file'):\n",
    "        handle.write(f\"{example['chrom']}\\t{int(x)}\\t{int(x+1)}\\t{example['strand']}\\t{get_sequence(genome, chrom_sizes, example['chrom'], x, example['strand'])}\\n\")\n"
   ]
  },
  {
   "cell_type": "code",
   "execution_count": null,
   "metadata": {},
   "outputs": [],
   "source": []
  }
 ],
 "metadata": {
  "kernelspec": {
   "display_name": "Python 3",
   "language": "python",
   "name": "python3"
  },
  "language_info": {
   "codemirror_mode": {
    "name": "ipython",
    "version": 3
   },
   "file_extension": ".py",
   "mimetype": "text/x-python",
   "name": "python",
   "nbconvert_exporter": "python",
   "pygments_lexer": "ipython3",
   "version": "3.9.6"
  }
 },
 "nbformat": 4,
 "nbformat_minor": 2
}
